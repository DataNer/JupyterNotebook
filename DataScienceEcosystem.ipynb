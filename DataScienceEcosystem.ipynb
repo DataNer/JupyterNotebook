{
 "cells": [
  {
   "cell_type": "markdown",
   "metadata": {
    "tags": []
   },
   "source": [
    "# DataScienceEcosystem"
   ]
  },
  {
   "cell_type": "markdown",
   "metadata": {},
   "source": [
    "**Jino Paul**<br>Gradaute Student<br>*I am interested in data science because I love telling stories with data and using data to help bring that data to life*"
   ]
  },
  {
   "cell_type": "markdown",
   "metadata": {
    "tags": []
   },
   "source": [
    "List data science languages:\n",
    " 1. Python\n",
    " 2. R\n",
    " 3. Juila"
   ]
  },
  {
   "cell_type": "markdown",
   "metadata": {},
   "source": [
    "List data science libraries:\n",
    "1. Numpy\n",
    "2. Pandas\n",
    "3. Scikit learn"
   ]
  },
  {
   "cell_type": "markdown",
   "metadata": {},
   "source": [
    "Table of Data Science tools:\n",
    "|Data Science Tools|\n",
    "--------------------\n",
    "|Tensorflow       |\n",
    "|Apache Spark     |\n",
    "|Power BI         |\n",
    "|Pytorch          |\n",
    "\n"
   ]
  },
  {
   "cell_type": "markdown",
   "metadata": {
    "tags": []
   },
   "source": [
    "### Below are a few examples of evaluating arithmetic expressions in Python.\n",
    "\n",
    "$$2+3=5$$\n",
    "$$2-3=-1$$\n",
    "$$2*3=6$$"
   ]
  },
  {
   "cell_type": "code",
   "execution_count": 5,
   "metadata": {
    "tags": []
   },
   "outputs": [
    {
     "name": "stdout",
     "output_type": "stream",
     "text": [
      "17\n"
     ]
    }
   ],
   "source": [
    "expression=(3*4)+5\n",
    "#This a simple arithmetic expression to mutiply then add integers\n",
    "print(expression)"
   ]
  },
  {
   "cell_type": "code",
   "execution_count": 6,
   "metadata": {
    "tags": []
   },
   "outputs": [
    {
     "name": "stdout",
     "output_type": "stream",
     "text": [
      "200 minutes is equivalent to 3.33 hours\n"
     ]
    }
   ],
   "source": [
    "minutes=200\n",
    "#This will convert 200 minutes to hours by diving by 60\n",
    "hours=round(minutes/60.0,2)\n",
    "print(f'{minutes} minutes is equivalent to {hours} hours')"
   ]
  },
  {
   "cell_type": "markdown",
   "metadata": {},
   "source": [
    "Objectives:\n",
    "- Python\n",
    "- R\n",
    "- Juila"
   ]
  },
  {
   "cell_type": "markdown",
   "metadata": {
    "tags": []
   },
   "source": [
    "## Author\n",
    "Jino Paul"
   ]
  }
 ],
 "metadata": {
  "kernelspec": {
   "display_name": "Python 3 (ipykernel)",
   "language": "python",
   "name": "python3"
  },
  "language_info": {
   "codemirror_mode": {
    "name": "ipython",
    "version": 3
   },
   "file_extension": ".py",
   "mimetype": "text/x-python",
   "name": "python",
   "nbconvert_exporter": "python",
   "pygments_lexer": "ipython3",
   "version": "3.11.3"
  }
 },
 "nbformat": 4,
 "nbformat_minor": 4
}
